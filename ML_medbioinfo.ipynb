{
  "nbformat": 4,
  "nbformat_minor": 0,
  "metadata": {
    "colab": {
      "provenance": [],
      "toc_visible": true,
      "authorship_tag": "ABX9TyOdXnV84V1Vz7koPUCl8F4s",
      "include_colab_link": true
    },
    "kernelspec": {
      "name": "python3",
      "display_name": "Python 3"
    },
    "language_info": {
      "name": "python"
    }
  },
  "cells": [
    {
      "cell_type": "markdown",
      "metadata": {
        "id": "view-in-github",
        "colab_type": "text"
      },
      "source": [
        "<a href=\"https://colab.research.google.com/github/gusjoa/ML_medbioinfo/blob/main/ML_medbioinfo.ipynb\" target=\"_parent\"><img src=\"https://colab.research.google.com/assets/colab-badge.svg\" alt=\"Open In Colab\"/></a>"
      ]
    },
    {
      "cell_type": "markdown",
      "source": [
        " # Machine Learning Project MedBioInfo Course\n",
        "\n",
        "## Load Data"
      ],
      "metadata": {
        "id": "pC6fDvahUird"
      }
    },
    {
      "cell_type": "code",
      "source": [
        "!pip install ucimlrepo\n",
        "\n",
        "from ucimlrepo import fetch_ucirepo\n",
        "\n",
        "# fetch dataset\n",
        "mice_protein_expression = fetch_ucirepo(id=342)\n",
        "\n",
        "# data (as pandas dataframes)\n",
        "X = mice_protein_expression.data.features\n",
        "y = mice_protein_expression.data.targets\n",
        "\n",
        "# metadata\n",
        "print(mice_protein_expression.metadata)\n",
        "\n",
        "# variable information\n",
        "print(mice_protein_expression.variables)"
      ],
      "metadata": {
        "colab": {
          "base_uri": "https://localhost:8080/"
        },
        "id": "Ohzsjx1vXLog",
        "outputId": "ba6bd383-5690-4b37-a3f3-671a82b7ab34"
      },
      "execution_count": 3,
      "outputs": [
        {
          "output_type": "stream",
          "name": "stdout",
          "text": [
            "Collecting ucimlrepo\n",
            "  Downloading ucimlrepo-0.0.7-py3-none-any.whl.metadata (5.5 kB)\n",
            "Requirement already satisfied: pandas>=1.0.0 in /usr/local/lib/python3.11/dist-packages (from ucimlrepo) (2.2.2)\n",
            "Requirement already satisfied: certifi>=2020.12.5 in /usr/local/lib/python3.11/dist-packages (from ucimlrepo) (2025.4.26)\n",
            "Requirement already satisfied: numpy>=1.23.2 in /usr/local/lib/python3.11/dist-packages (from pandas>=1.0.0->ucimlrepo) (2.0.2)\n",
            "Requirement already satisfied: python-dateutil>=2.8.2 in /usr/local/lib/python3.11/dist-packages (from pandas>=1.0.0->ucimlrepo) (2.9.0.post0)\n",
            "Requirement already satisfied: pytz>=2020.1 in /usr/local/lib/python3.11/dist-packages (from pandas>=1.0.0->ucimlrepo) (2025.2)\n",
            "Requirement already satisfied: tzdata>=2022.7 in /usr/local/lib/python3.11/dist-packages (from pandas>=1.0.0->ucimlrepo) (2025.2)\n",
            "Requirement already satisfied: six>=1.5 in /usr/local/lib/python3.11/dist-packages (from python-dateutil>=2.8.2->pandas>=1.0.0->ucimlrepo) (1.17.0)\n",
            "Downloading ucimlrepo-0.0.7-py3-none-any.whl (8.0 kB)\n",
            "Installing collected packages: ucimlrepo\n",
            "Successfully installed ucimlrepo-0.0.7\n",
            "{'uci_id': 342, 'name': 'Mice Protein Expression', 'repository_url': 'https://archive.ics.uci.edu/dataset/342/mice+protein+expression', 'data_url': 'https://archive.ics.uci.edu/static/public/342/data.csv', 'abstract': 'Expression levels of 77 proteins measured in the cerebral cortex of 8 classes of control and Down syndrome mice exposed to context fear conditioning, a task used to assess associative learning.', 'area': 'Biology', 'tasks': ['Classification', 'Clustering'], 'characteristics': ['Multivariate'], 'num_instances': 1080, 'num_features': 80, 'feature_types': ['Real'], 'demographics': [], 'target_col': ['class'], 'index_col': ['MouseID'], 'has_missing_values': 'yes', 'missing_values_symbol': 'NaN', 'year_of_dataset_creation': 2015, 'last_updated': 'Tue Apr 16 2024', 'dataset_doi': '10.24432/C50S3Z', 'creators': ['Clara Higuera', 'Katheleen Gardiner', 'Krzysztof Cios'], 'intro_paper': {'ID': 475, 'type': 'NATIVE', 'title': 'Self-Organizing Feature Maps Identify Proteins Critical to Learning in a Mouse Model of Down Syndrome', 'authors': 'C. Higuera, K. Gardiner, K. Cios', 'venue': 'PLoS ONE', 'year': 2015, 'journal': None, 'DOI': '10.1371/journal.pone.0129126', 'URL': 'https://www.semanticscholar.org/paper/5c5754b02a4f2f36ccf8cdda78059cdb19860532', 'sha': None, 'corpus': None, 'arxiv': None, 'mag': None, 'acl': None, 'pmid': None, 'pmcid': None}, 'additional_info': {'summary': 'The data set consists of the expression levels of 77 proteins/protein modifications that produced detectable signals in the nuclear fraction of cortex. There are 38 control mice and 34 trisomic mice (Down syndrome), for a total of 72 mice. In the experiments, 15 measurements were registered of each protein per sample/mouse. Therefore, for control mice, there are 38x15, or 570 measurements, and for trisomic mice, there are 34x15, or 510 measurements. The dataset contains a total of 1080 measurements per protein. Each measurement can be considered as an independent sample/mouse.\\r\\n\\r\\nThe eight classes of mice are described based on features such as genotype, behavior and treatment. According to genotype, mice can be control or trisomic. According to behavior, some mice have been stimulated to learn (context-shock) and others have not (shock-context) and in order to assess the effect of the drug memantine in recovering the ability to learn in trisomic mice, some mice have been injected with the drug and others have not.\\r\\n\\r\\nClasses:\\r\\nc-CS-s: control mice, stimulated to learn, injected with saline (9 mice)\\r\\nc-CS-m: control mice, stimulated to learn, injected with memantine (10 mice)\\r\\nc-SC-s: control mice, not stimulated to learn, injected with saline (9 mice)\\r\\nc-SC-m: control mice, not stimulated to learn, injected with memantine (10 mice)\\r\\n\\r\\nt-CS-s: trisomy mice, stimulated to learn, injected with saline (7 mice)\\r\\nt-CS-m: trisomy mice, stimulated to learn, injected with memantine (9 mice)\\r\\nt-SC-s: trisomy mice, not stimulated to learn, injected with saline (9 mice)\\r\\nt-SC-m: trisomy mice, not stimulated to learn, injected with memantine (9 mice)\\r\\n\\r\\nThe aim is to identify subsets of proteins that are discriminant between the classes.\\r\\n', 'purpose': None, 'funded_by': None, 'instances_represent': None, 'recommended_data_splits': None, 'sensitive_data': None, 'preprocessing_description': None, 'variable_info': '1 Mouse ID \\r\\n2..78 Values of expression levels of 77 proteins; the names of proteins are followed by â€œ_nâ€\\x9d  indicating that they were measured in the nuclear fraction. For example: DYRK1A_n\\r\\n79 Genotype: control (c) or trisomy (t)\\r\\n80 Treatment type: memantine (m) or saline (s)\\r\\n81 Behavior: context-shock (CS) or shock-context (SC)\\r\\n82 Class: c-CS-s, c-CS-m, c-SC-s, c-SC-m,  t-CS-s, t-CS-m, t-SC-s, t-SC-m \\r\\n', 'citation': None}}\n",
            "         name     role         type demographic description units  \\\n",
            "0     MouseID       ID  Categorical        None        None  None   \n",
            "1    DYRK1A_N  Feature   Continuous        None        None  None   \n",
            "2     ITSN1_N  Feature   Continuous        None        None  None   \n",
            "3      BDNF_N  Feature   Continuous        None        None  None   \n",
            "4       NR1_N  Feature   Continuous        None        None  None   \n",
            "..        ...      ...          ...         ...         ...   ...   \n",
            "77     CaNA_N  Feature   Continuous        None        None  None   \n",
            "78   Genotype  Feature  Categorical        None        None  None   \n",
            "79  Treatment  Feature  Categorical        None        None  None   \n",
            "80   Behavior  Feature  Categorical        None        None  None   \n",
            "81      class   Target  Categorical        None        None  None   \n",
            "\n",
            "   missing_values  \n",
            "0              no  \n",
            "1             yes  \n",
            "2              no  \n",
            "3             yes  \n",
            "4              no  \n",
            "..            ...  \n",
            "77             no  \n",
            "78             no  \n",
            "79             no  \n",
            "80             no  \n",
            "81             no  \n",
            "\n",
            "[82 rows x 7 columns]\n"
          ]
        }
      ]
    }
  ]
}